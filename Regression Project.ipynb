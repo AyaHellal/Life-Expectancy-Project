{
 "cells": [
  {
   "cell_type": "code",
   "execution_count": 69,
   "id": "1bd7e940-52bd-4f48-8b88-e74b79921174",
   "metadata": {},
   "outputs": [
    {
     "data": {
      "text/html": [
       "<div>\n",
       "<style scoped>\n",
       "    .dataframe tbody tr th:only-of-type {\n",
       "        vertical-align: middle;\n",
       "    }\n",
       "\n",
       "    .dataframe tbody tr th {\n",
       "        vertical-align: top;\n",
       "    }\n",
       "\n",
       "    .dataframe thead th {\n",
       "        text-align: right;\n",
       "    }\n",
       "</style>\n",
       "<table border=\"1\" class=\"dataframe\">\n",
       "  <thead>\n",
       "    <tr style=\"text-align: right;\">\n",
       "      <th></th>\n",
       "      <th>Country</th>\n",
       "      <th>Year</th>\n",
       "      <th>Status</th>\n",
       "      <th>Life expectancy</th>\n",
       "      <th>Adult Mortality</th>\n",
       "      <th>infant deaths</th>\n",
       "      <th>Alcohol</th>\n",
       "      <th>percentage expenditure</th>\n",
       "      <th>Hepatitis B</th>\n",
       "      <th>Measles</th>\n",
       "      <th>...</th>\n",
       "      <th>Polio</th>\n",
       "      <th>Total expenditure</th>\n",
       "      <th>Diphtheria</th>\n",
       "      <th>HIV/AIDS</th>\n",
       "      <th>GDP</th>\n",
       "      <th>Population</th>\n",
       "      <th>thinness  1-19 years</th>\n",
       "      <th>thinness 5-9 years</th>\n",
       "      <th>Income composition of resources</th>\n",
       "      <th>Schooling</th>\n",
       "    </tr>\n",
       "  </thead>\n",
       "  <tbody>\n",
       "    <tr>\n",
       "      <th>0</th>\n",
       "      <td>Afghanistan</td>\n",
       "      <td>2015</td>\n",
       "      <td>Developing</td>\n",
       "      <td>65.0</td>\n",
       "      <td>263.0</td>\n",
       "      <td>62</td>\n",
       "      <td>0.01</td>\n",
       "      <td>71.279624</td>\n",
       "      <td>65.0</td>\n",
       "      <td>1154</td>\n",
       "      <td>...</td>\n",
       "      <td>6.0</td>\n",
       "      <td>8.16</td>\n",
       "      <td>65.0</td>\n",
       "      <td>0.1</td>\n",
       "      <td>584.259210</td>\n",
       "      <td>33736494.0</td>\n",
       "      <td>17.2</td>\n",
       "      <td>17.3</td>\n",
       "      <td>0.479</td>\n",
       "      <td>10.1</td>\n",
       "    </tr>\n",
       "    <tr>\n",
       "      <th>1</th>\n",
       "      <td>Afghanistan</td>\n",
       "      <td>2014</td>\n",
       "      <td>Developing</td>\n",
       "      <td>59.9</td>\n",
       "      <td>271.0</td>\n",
       "      <td>64</td>\n",
       "      <td>0.01</td>\n",
       "      <td>73.523582</td>\n",
       "      <td>62.0</td>\n",
       "      <td>492</td>\n",
       "      <td>...</td>\n",
       "      <td>58.0</td>\n",
       "      <td>8.18</td>\n",
       "      <td>62.0</td>\n",
       "      <td>0.1</td>\n",
       "      <td>612.696514</td>\n",
       "      <td>327582.0</td>\n",
       "      <td>17.5</td>\n",
       "      <td>17.5</td>\n",
       "      <td>0.476</td>\n",
       "      <td>10.0</td>\n",
       "    </tr>\n",
       "    <tr>\n",
       "      <th>2</th>\n",
       "      <td>Afghanistan</td>\n",
       "      <td>2013</td>\n",
       "      <td>Developing</td>\n",
       "      <td>59.9</td>\n",
       "      <td>268.0</td>\n",
       "      <td>66</td>\n",
       "      <td>0.01</td>\n",
       "      <td>73.219243</td>\n",
       "      <td>64.0</td>\n",
       "      <td>430</td>\n",
       "      <td>...</td>\n",
       "      <td>62.0</td>\n",
       "      <td>8.13</td>\n",
       "      <td>64.0</td>\n",
       "      <td>0.1</td>\n",
       "      <td>631.744976</td>\n",
       "      <td>31731688.0</td>\n",
       "      <td>17.7</td>\n",
       "      <td>17.7</td>\n",
       "      <td>0.470</td>\n",
       "      <td>9.9</td>\n",
       "    </tr>\n",
       "    <tr>\n",
       "      <th>3</th>\n",
       "      <td>Afghanistan</td>\n",
       "      <td>2012</td>\n",
       "      <td>Developing</td>\n",
       "      <td>59.5</td>\n",
       "      <td>272.0</td>\n",
       "      <td>69</td>\n",
       "      <td>0.01</td>\n",
       "      <td>78.184215</td>\n",
       "      <td>67.0</td>\n",
       "      <td>2787</td>\n",
       "      <td>...</td>\n",
       "      <td>67.0</td>\n",
       "      <td>8.52</td>\n",
       "      <td>67.0</td>\n",
       "      <td>0.1</td>\n",
       "      <td>669.959000</td>\n",
       "      <td>3696958.0</td>\n",
       "      <td>17.9</td>\n",
       "      <td>18.0</td>\n",
       "      <td>0.463</td>\n",
       "      <td>9.8</td>\n",
       "    </tr>\n",
       "    <tr>\n",
       "      <th>4</th>\n",
       "      <td>Afghanistan</td>\n",
       "      <td>2011</td>\n",
       "      <td>Developing</td>\n",
       "      <td>59.2</td>\n",
       "      <td>275.0</td>\n",
       "      <td>71</td>\n",
       "      <td>0.01</td>\n",
       "      <td>7.097109</td>\n",
       "      <td>68.0</td>\n",
       "      <td>3013</td>\n",
       "      <td>...</td>\n",
       "      <td>68.0</td>\n",
       "      <td>7.87</td>\n",
       "      <td>68.0</td>\n",
       "      <td>0.1</td>\n",
       "      <td>63.537231</td>\n",
       "      <td>2978599.0</td>\n",
       "      <td>18.2</td>\n",
       "      <td>18.2</td>\n",
       "      <td>0.454</td>\n",
       "      <td>9.5</td>\n",
       "    </tr>\n",
       "  </tbody>\n",
       "</table>\n",
       "<p>5 rows × 22 columns</p>\n",
       "</div>"
      ],
      "text/plain": [
       "       Country  Year      Status  Life expectancy   Adult Mortality  \\\n",
       "0  Afghanistan  2015  Developing              65.0            263.0   \n",
       "1  Afghanistan  2014  Developing              59.9            271.0   \n",
       "2  Afghanistan  2013  Developing              59.9            268.0   \n",
       "3  Afghanistan  2012  Developing              59.5            272.0   \n",
       "4  Afghanistan  2011  Developing              59.2            275.0   \n",
       "\n",
       "   infant deaths  Alcohol  percentage expenditure  Hepatitis B  Measles   ...  \\\n",
       "0             62     0.01               71.279624         65.0      1154  ...   \n",
       "1             64     0.01               73.523582         62.0       492  ...   \n",
       "2             66     0.01               73.219243         64.0       430  ...   \n",
       "3             69     0.01               78.184215         67.0      2787  ...   \n",
       "4             71     0.01                7.097109         68.0      3013  ...   \n",
       "\n",
       "   Polio  Total expenditure  Diphtheria    HIV/AIDS         GDP  Population  \\\n",
       "0    6.0               8.16         65.0        0.1  584.259210  33736494.0   \n",
       "1   58.0               8.18         62.0        0.1  612.696514    327582.0   \n",
       "2   62.0               8.13         64.0        0.1  631.744976  31731688.0   \n",
       "3   67.0               8.52         67.0        0.1  669.959000   3696958.0   \n",
       "4   68.0               7.87         68.0        0.1   63.537231   2978599.0   \n",
       "\n",
       "    thinness  1-19 years   thinness 5-9 years  \\\n",
       "0                   17.2                 17.3   \n",
       "1                   17.5                 17.5   \n",
       "2                   17.7                 17.7   \n",
       "3                   17.9                 18.0   \n",
       "4                   18.2                 18.2   \n",
       "\n",
       "   Income composition of resources  Schooling  \n",
       "0                            0.479       10.1  \n",
       "1                            0.476       10.0  \n",
       "2                            0.470        9.9  \n",
       "3                            0.463        9.8  \n",
       "4                            0.454        9.5  \n",
       "\n",
       "[5 rows x 22 columns]"
      ]
     },
     "execution_count": 69,
     "metadata": {},
     "output_type": "execute_result"
    }
   ],
   "source": [
    "import pandas as pd\n",
    "df=pd.read_csv(\"Life Expectancy Data.csv\")\n",
    "df.head()"
   ]
  },
  {
   "cell_type": "code",
   "execution_count": 70,
   "id": "ae82229c-5d62-47ff-a761-4c2e94d4c7da",
   "metadata": {},
   "outputs": [
    {
     "data": {
      "text/plain": [
       "0"
      ]
     },
     "execution_count": 70,
     "metadata": {},
     "output_type": "execute_result"
    }
   ],
   "source": [
    "#Drop rows where Life expectancy is null\n",
    "df.dropna(subset=['Life expectancy '],axis=0, inplace=True)\n",
    "df['Life expectancy '].isnull().sum()"
   ]
  },
  {
   "cell_type": "code",
   "execution_count": 71,
   "id": "713db3b6-fd36-4d90-a8a0-ab171dcde3b7",
   "metadata": {},
   "outputs": [
    {
     "data": {
      "text/plain": [
       "0"
      ]
     },
     "execution_count": 71,
     "metadata": {},
     "output_type": "execute_result"
    }
   ],
   "source": [
    "#Impute Alcohol column\n",
    "import numpy as np\n",
    "\n",
    "# Get list of countries with nulls in 'Alcohol'\n",
    "countriesAl_with_nulls = df[df['Alcohol'].isnull()]['Country'].unique()\n",
    "\n",
    "# Impute missing values with country-specific mean\n",
    "for country in countriesAl_with_nulls:\n",
    "    country_mean = df.loc[df['Country'] == country, 'Alcohol'].mean()\n",
    "    df.loc[(df['Country'] == country) & (df['Alcohol'].isnull()), 'Alcohol'] = country_mean\n",
    "m=df['Alcohol'].mean()\n",
    "df['Alcohol'].fillna(m,inplace=True)\n",
    "df['Alcohol'].isnull().sum()"
   ]
  },
  {
   "cell_type": "code",
   "execution_count": 72,
   "id": "c724c9cd-5083-4ca0-9c86-c6bdb1d6b975",
   "metadata": {},
   "outputs": [
    {
     "data": {
      "text/plain": [
       "0"
      ]
     },
     "execution_count": 72,
     "metadata": {},
     "output_type": "execute_result"
    }
   ],
   "source": [
    "#Impute Hepatitis B column\n",
    "import numpy as np\n",
    "\n",
    "# Get list of countries with nulls in 'Hepatitis B'\n",
    "countries_with_nulls = df[df['Hepatitis B'].isnull()]['Country'].unique()\n",
    "\n",
    "# Impute missing values with country-specific mean\n",
    "for country in countries_with_nulls:\n",
    "    country_mean = df.loc[df['Country'] == country, 'Hepatitis B'].mean()\n",
    "    df.loc[(df['Country'] == country) & (df['Hepatitis B'].isnull()), 'Hepatitis B'] = country_mean\n",
    "df['Hepatitis B'].isnull().sum()\n",
    "m=df['Hepatitis B'].mean()\n",
    "df['Hepatitis B'].fillna(m,inplace=True)\n",
    "df['Hepatitis B'].isnull().sum()"
   ]
  },
  {
   "cell_type": "code",
   "execution_count": 73,
   "id": "64ac698b-3ae3-40c2-922f-776f719e9b7f",
   "metadata": {},
   "outputs": [
    {
     "data": {
      "text/plain": [
       "0"
      ]
     },
     "execution_count": 73,
     "metadata": {},
     "output_type": "execute_result"
    }
   ],
   "source": [
    "#Impute BMI column\n",
    "countriesBMI_with_nulls = df[df[' BMI '].isnull()]['Country'].unique()\n",
    "\n",
    "# Impute missing values with country-specific mean\n",
    "for country in countriesBMI_with_nulls:\n",
    "    country_mean = df.loc[df['Country'] == country, ' BMI '].mean()\n",
    "    df.loc[(df['Country'] == country) & (df[' BMI '].isnull()), ' BMI '] = country_mean\n",
    "m=df[' BMI '].mean()\n",
    "df[' BMI '].fillna(m,inplace=True)\n",
    "df[' BMI '].isnull().sum()"
   ]
  },
  {
   "cell_type": "code",
   "execution_count": 74,
   "id": "30c8c827-1876-496c-8a39-dbd60f2f3b57",
   "metadata": {},
   "outputs": [
    {
     "data": {
      "text/plain": [
       "0"
      ]
     },
     "execution_count": 74,
     "metadata": {},
     "output_type": "execute_result"
    }
   ],
   "source": [
    "#Impute Polio Column\n",
    "countriesPolio_with_nulls = df[df['Polio'].isnull()]['Country'].unique()\n",
    "\n",
    "# Impute missing values with country-specific mean\n",
    "for country in countriesPolio_with_nulls:\n",
    "    country_mean = df.loc[df['Country'] == country, 'Polio'].mean()\n",
    "    df.loc[(df['Country'] == country) & (df['Polio'].isnull()), 'Polio'] = country_mean\n",
    "m=df['Polio'].mean()\n",
    "df['Polio'].fillna(m,inplace=True)\n",
    "df['Polio'].isnull().sum()"
   ]
  },
  {
   "cell_type": "code",
   "execution_count": 75,
   "id": "5db4c37d-8de3-40e6-a448-5b93c8eabaff",
   "metadata": {},
   "outputs": [
    {
     "data": {
      "text/plain": [
       "Country                            0\n",
       "Year                               0\n",
       "Status                             0\n",
       "Life expectancy                    0\n",
       "Adult Mortality                    0\n",
       "infant deaths                      0\n",
       "Alcohol                            0\n",
       "percentage expenditure             0\n",
       "Hepatitis B                        0\n",
       "Measles                            0\n",
       " BMI                               0\n",
       "under-five deaths                  0\n",
       "Polio                              0\n",
       "Total expenditure                  0\n",
       "Diphtheria                         0\n",
       " HIV/AIDS                          0\n",
       "GDP                                0\n",
       "Population                         0\n",
       " thinness  1-19 years              0\n",
       " thinness 5-9 years                0\n",
       "Income composition of resources    0\n",
       "Schooling                          0\n",
       "dtype: int64"
      ]
     },
     "execution_count": 75,
     "metadata": {},
     "output_type": "execute_result"
    }
   ],
   "source": [
    "#Imputation for remaining columns with null values\n",
    "colnames=['Total expenditure','Diphtheria ', 'GDP', 'Population', ' thinness  1-19 years', ' thinness 5-9 years', \n",
    "'Income composition of resources', 'Schooling']\n",
    "\n",
    "for c in colnames:\n",
    "    countries_with_nulls = df[df[c].isnull()]['Country'].unique()\n",
    "\n",
    "# Impute missing values with country-specific mean\n",
    "for country in countries_with_nulls:\n",
    "    country_mean = df.loc[df['Country'] == country, c].mean()\n",
    "    df.loc[(df['Country'] == country) & (df[c].isnull()), c] = country_mean\n",
    "for c in colnames:\n",
    "    m=df[c].mean()\n",
    "    df[c].fillna(m,inplace=True)\n",
    "df.isnull().sum()"
   ]
  },
  {
   "cell_type": "markdown",
   "id": "8ded63c1-8c79-4ba5-8076-64c00c65e16e",
   "metadata": {},
   "source": [
    "# Plynomial Regression"
   ]
  },
  {
   "cell_type": "code",
   "execution_count": 76,
   "id": "d07fa04f-069c-449f-b748-21fc87f611d6",
   "metadata": {},
   "outputs": [
    {
     "data": {
      "text/plain": [
       "Index(['Year', 'Life expectancy ', 'Adult Mortality', 'infant deaths',\n",
       "       'Alcohol', 'percentage expenditure', 'Hepatitis B', 'Measles ', ' BMI ',\n",
       "       'under-five deaths ', 'Polio', 'Total expenditure', 'Diphtheria ',\n",
       "       ' HIV/AIDS', 'GDP', 'Population', ' thinness  1-19 years',\n",
       "       ' thinness 5-9 years', 'Income composition of resources', 'Schooling'],\n",
       "      dtype='object')"
      ]
     },
     "execution_count": 76,
     "metadata": {},
     "output_type": "execute_result"
    }
   ],
   "source": [
    "df_reg=df.select_dtypes(include='number')\n",
    "df_reg.columns"
   ]
  },
  {
   "cell_type": "code",
   "execution_count": 77,
   "id": "f9223edb-87c3-431c-bad1-158d144a2525",
   "metadata": {},
   "outputs": [
    {
     "data": {
      "text/plain": [
       "Index(['Life expectancy ', 'Adult Mortality', 'infant deaths', 'Alcohol',\n",
       "       'percentage expenditure', 'Hepatitis B', 'Measles ', ' BMI ',\n",
       "       'under-five deaths ', 'Polio', 'Total expenditure', 'Diphtheria ',\n",
       "       ' HIV/AIDS', 'GDP', 'Population', ' thinness  1-19 years',\n",
       "       ' thinness 5-9 years', 'Income composition of resources', 'Schooling'],\n",
       "      dtype='object')"
      ]
     },
     "execution_count": 77,
     "metadata": {},
     "output_type": "execute_result"
    }
   ],
   "source": [
    "df_reg = df_reg.drop('Year', axis=1)\n",
    "df_reg.columns"
   ]
  },
  {
   "cell_type": "code",
   "execution_count": 78,
   "id": "3b65785f-9892-4692-b1c7-0a192735a5db",
   "metadata": {},
   "outputs": [],
   "source": [
    "x_data=df_reg "
   ]
  },
  {
   "cell_type": "code",
   "execution_count": 79,
   "id": "9d24b4ca-7806-46f8-a298-95a6e587e1e5",
   "metadata": {},
   "outputs": [
    {
     "data": {
      "text/plain": [
       "Index(['Adult Mortality', 'infant deaths', 'Alcohol', 'percentage expenditure',\n",
       "       'Hepatitis B', 'Measles ', ' BMI ', 'under-five deaths ', 'Polio',\n",
       "       'Total expenditure', 'Diphtheria ', ' HIV/AIDS', 'GDP', 'Population',\n",
       "       ' thinness  1-19 years', ' thinness 5-9 years',\n",
       "       'Income composition of resources', 'Schooling'],\n",
       "      dtype='object')"
      ]
     },
     "execution_count": 79,
     "metadata": {},
     "output_type": "execute_result"
    }
   ],
   "source": [
    "x_data = df_reg.drop('Life expectancy ', axis=1)\n",
    "x_data.columns"
   ]
  },
  {
   "cell_type": "code",
   "execution_count": 80,
   "id": "906aaf17-f7e2-4307-9242-fd04d352546f",
   "metadata": {},
   "outputs": [],
   "source": [
    "y_data=df_reg['Life expectancy ']"
   ]
  },
  {
   "cell_type": "code",
   "execution_count": 81,
   "id": "fb1775e5-78e2-439a-b915-fc65a86785ad",
   "metadata": {},
   "outputs": [
    {
     "data": {
      "text/plain": [
       "0    65.0\n",
       "1    59.9\n",
       "2    59.9\n",
       "3    59.5\n",
       "4    59.2\n",
       "Name: Life expectancy , dtype: float64"
      ]
     },
     "execution_count": 81,
     "metadata": {},
     "output_type": "execute_result"
    }
   ],
   "source": [
    "y_data.head()"
   ]
  },
  {
   "cell_type": "markdown",
   "id": "2e9dae21-24fe-4d0d-8223-d7bd409cb69c",
   "metadata": {
    "jp-MarkdownHeadingCollapsed": true,
    "tags": []
   },
   "source": [
    "## Split dataset into training and test datasets"
   ]
  },
  {
   "cell_type": "code",
   "execution_count": 82,
   "id": "387158eb-4651-41a1-8372-032813d9a5df",
   "metadata": {},
   "outputs": [],
   "source": [
    "from sklearn.model_selection import train_test_split\n",
    "x_train,x_test,y_train,y_test=train_test_split(x_data,y_data,test_size=0.3,random_state=0)"
   ]
  },
  {
   "cell_type": "markdown",
   "id": "44790ff9-1fe8-4e83-9560-49eb7a2974aa",
   "metadata": {},
   "source": [
    "## Pipelines"
   ]
  },
  {
   "cell_type": "code",
   "execution_count": 83,
   "id": "b3113926-4a40-429b-86f7-f562bccc60b8",
   "metadata": {},
   "outputs": [],
   "source": [
    "from sklearn.preprocessing import PolynomialFeatures\n",
    "from sklearn.linear_model import LinearRegression\n",
    "from sklearn.preprocessing import StandardScaler\n",
    "from sklearn.pipeline import Pipeline \n",
    "nput=[('Scale',StandardScaler()),('Polynomial',PolynomialFeatures(degree=2)),('Model',LinearRegression())]\n",
    "pipe=Pipeline(nput)\n",
    "pipe.fit(x_train,y_train)\n",
    "yhat=pipe.predict(x_test)"
   ]
  },
  {
   "cell_type": "code",
   "execution_count": 84,
   "id": "e98885eb-8ce9-4033-ab88-3137a4382758",
   "metadata": {},
   "outputs": [
    {
     "data": {
      "text/plain": [
       "12.124975264688414"
      ]
     },
     "execution_count": 84,
     "metadata": {},
     "output_type": "execute_result"
    }
   ],
   "source": [
    "from sklearn.metrics import mean_squared_error\n",
    "mean_squared_error(y_test,yhat)"
   ]
  },
  {
   "cell_type": "code",
   "execution_count": 85,
   "id": "03e3686b-f376-4371-bba2-e2b79e5115cd",
   "metadata": {},
   "outputs": [
    {
     "data": {
      "text/plain": [
       "0.8685361991087684"
      ]
     },
     "execution_count": 85,
     "metadata": {},
     "output_type": "execute_result"
    }
   ],
   "source": [
    "from sklearn.metrics import r2_score\n",
    "r2_score(y_test,yhat)"
   ]
  },
  {
   "cell_type": "markdown",
   "id": "b6306d41-0997-470c-80ca-e6b613ed918b",
   "metadata": {},
   "source": [
    "## Prediction  Visualization"
   ]
  },
  {
   "cell_type": "code",
   "execution_count": 86,
   "id": "825295d8-fd39-48a2-8f14-57cea1e85037",
   "metadata": {},
   "outputs": [
    {
     "data": {
      "image/png": "[encoded data removed]",
      "text/plain": [
       "<Figure size 576x144 with 1 Axes>"
      ]
     },
     "metadata": {
      "needs_background": "light"
     },
     "output_type": "display_data"
    }
   ],
   "source": [
    "import matplotlib.pyplot as plt\n",
    "import seaborn as sns\n",
    "plt.figure(figsize=(8,2))\n",
    "sns.kdeplot(y_test,label=\"Actual\", fill=True,color=\"blue\")\n",
    "sns.kdeplot(yhat,label=\"Predicted\", fill=True,color=\"red\")\n",
    "plt.xlabel('Target variable')\n",
    "plt.ylabel('Density') \n",
    "plt.title(\"Actual Target value vs Prdicted Target value\")\n",
    "plt.legend()\n",
    "plt.show()"
   ]
  },
  {
   "cell_type": "markdown",
   "id": "4d255ad1-0f8c-4ea6-9c0e-aafe2c45f7e0",
   "metadata": {},
   "source": [
    "## Preprocessing"
   ]
  },
  {
   "cell_type": "code",
   "execution_count": 87,
   "id": "567d1695-dccb-45a8-a508-c71daf41aac5",
   "metadata": {},
   "outputs": [],
   "source": [
    "from sklearn.preprocessing import StandardScaler\n",
    "SCALE=StandardScaler()\n",
    "SCALE.fit(x_data)\n",
    "x_scale=SCALE.transform(x_data)"
   ]
  },
  {
   "cell_type": "markdown",
   "id": "da8401a6-ed8e-432d-9f3e-9840bae79f74",
   "metadata": {},
   "source": [
    "## Split dataset into training and test datasets"
   ]
  },
  {
   "cell_type": "code",
   "execution_count": 88,
   "id": "736df321-77a2-4d29-ab8e-e0b0e1f3c9fe",
   "metadata": {},
   "outputs": [],
   "source": [
    "from sklearn.model_selection import train_test_split\n",
    "x_train,x_test,y_train,y_test=train_test_split(x_scale,y_data,test_size=0.3,random_state=0)"
   ]
  },
  {
   "cell_type": "markdown",
   "id": "e7a49770-bbb7-46ae-9d03-7c6c2b5d6cbf",
   "metadata": {},
   "source": [
    "## Model Evaluation using K_fold"
   ]
  },
  {
   "cell_type": "code",
   "execution_count": 89,
   "id": "798756d9-b46a-4c17-9c5e-cd11fa57d073",
   "metadata": {},
   "outputs": [
    {
     "data": {
      "text/plain": [
       "0.7894228966658976"
      ]
     },
     "execution_count": 89,
     "metadata": {},
     "output_type": "execute_result"
    }
   ],
   "source": [
    "from sklearn.model_selection import cross_val_score\n",
    "lr=LinearRegression()\n",
    "scores=cross_val_score(lr,x_scale,y_data,cv=4)\n",
    "np.mean(scores)"
   ]
  },
  {
   "cell_type": "code",
   "execution_count": 90,
   "id": "abc013d6-e934-46f6-b9e9-187eea6c60a3",
   "metadata": {},
   "outputs": [
    {
     "name": "stdout",
     "output_type": "stream",
     "text": [
      "Cross-validated Mean Squared Error: 18.87267973476518\n"
     ]
    }
   ],
   "source": [
    "scores = cross_val_score(lr, x_scale, y_data, cv=4, scoring='neg_mean_squared_error')\n",
    "\n",
    "# Convert negative MSE to positive\n",
    "mse_scores = -scores\n",
    "average_mse = np.mean(mse_scores)\n",
    "\n",
    "print(\"Cross-validated Mean Squared Error:\", average_mse)"
   ]
  },
  {
   "cell_type": "markdown",
   "id": "4eb4f7b6-9e03-460b-a9a0-9d95014f5295",
   "metadata": {},
   "source": [
    "## Prediction using Cross Validation"
   ]
  },
  {
   "cell_type": "code",
   "execution_count": 91,
   "id": "cae38315-d3f3-4d4d-b13e-82c1660616ed",
   "metadata": {},
   "outputs": [],
   "source": [
    "from sklearn.model_selection import cross_val_predict\n",
    "y_predict=cross_val_predict(lr,x_scale,y_data,cv=4)"
   ]
  },
  {
   "cell_type": "markdown",
   "id": "a60826e8-bd3f-4222-af71-3c6b12eca9b0",
   "metadata": {},
   "source": [
    "## Prediction  Visualization"
   ]
  },
  {
   "cell_type": "code",
   "execution_count": 92,
   "id": "70237ca7-9488-4313-84c0-8d85a1675255",
   "metadata": {},
   "outputs": [
    {
     "data": {
      "image/png": "[encoded data removed]",
      "text/plain": [
       "<Figure size 576x144 with 1 Axes>"
      ]
     },
     "metadata": {
      "needs_background": "light"
     },
     "output_type": "display_data"
    }
   ],
   "source": [
    "plt.figure(figsize=(8,2))\n",
    "sns.kdeplot(y_test,label=\"Actual\", fill=True,color=\"blue\")\n",
    "sns.kdeplot(y_predict,label=\"Predicted\", fill=True,color=\"red\")\n",
    "plt.xlabel('Target variable')\n",
    "plt.ylabel('Density') \n",
    "plt.title(\"Actual Target value vs Prdicted Target value\")\n",
    "plt.legend()\n",
    "plt.show()"
   ]
  },
  {
   "cell_type": "markdown",
   "id": "cd80168d-4fed-4060-9be0-977e9323a57f",
   "metadata": {},
   "source": [
    "# Polynomial Model"
   ]
  },
  {
   "cell_type": "markdown",
   "id": "39941121-4c63-438f-b3a7-cd1ae306c052",
   "metadata": {},
   "source": [
    "## Finding the best order using R square"
   ]
  },
  {
   "cell_type": "code",
   "execution_count": 93,
   "id": "20b49c5b-2aa8-46b9-8143-a4617d6c7f40",
   "metadata": {},
   "outputs": [
    {
     "data": {
      "image/png": "[encoded data removed]",
      "text/plain": [
       "<Figure size 432x288 with 1 Axes>"
      ]
     },
     "metadata": {
      "needs_background": "light"
     },
     "output_type": "display_data"
    }
   ],
   "source": [
    "from sklearn.preprocessing import PolynomialFeatures\n",
    "from sklearn.linear_model import LinearRegression\n",
    "Rsqu_test=[]\n",
    "order=[1,2,3,4]\n",
    "for n in order:\n",
    "    pr=PolynomialFeatures(degree=n)\n",
    "    x_train_pr=pr.fit_transform(x_train)\n",
    "    x_test_pr=pr.fit_transform(x_test)\n",
    "    lr.fit(x_train_pr,y_train)\n",
    "    Rsqu_test.append(lr.score(x_test_pr,y_test))\n",
    "plt.plot(order,Rsqu_test)\n",
    "plt.xlabel(\"Polynomial Order\")\n",
    "plt.ylabel(\"R-squared (Test)\")\n",
    "plt.title(\"Model Performance vs Polynomial Degree\")\n",
    "plt.grid(True)\n",
    "plt.show()"
   ]
  },
  {
   "cell_type": "code",
   "execution_count": 94,
   "id": "9d61f0c1-3d89-45cb-923d-17aee9f9bee1",
   "metadata": {},
   "outputs": [],
   "source": [
    "pr1=PolynomialFeatures(degree=2)\n",
    "x_train_pr1=pr1.fit_transform(x_train)\n",
    "x_test_pr1=pr1.fit_transform(x_test)\n",
    "poly1=LinearRegression()\n",
    "poly1.fit(x_train_pr1,y_train)\n",
    "yhat_test=poly1.predict(x_test_pr1)"
   ]
  },
  {
   "cell_type": "markdown",
   "id": "3c929f03-59da-42ba-9806-f58e0ab4f0f6",
   "metadata": {},
   "source": [
    "## Refinement (change the parameter Alpha)"
   ]
  },
  {
   "cell_type": "code",
   "execution_count": 168,
   "id": "71527b8c-40f2-419c-aaa5-2ece3475e744",
   "metadata": {},
   "outputs": [
    {
     "name": "stdout",
     "output_type": "stream",
     "text": [
      "Predicted: [65.89049808 53.30440155 57.60577163 75.28111486]\n",
      "Test set: [65.1 56.2 54.  75.8]\n"
     ]
    },
    {
     "data": {
      "text/plain": [
       "0.9092099670488221"
      ]
     },
     "execution_count": 168,
     "metadata": {},
     "output_type": "execute_result"
    }
   ],
   "source": [
    "from sklearn.linear_model import Ridge\n",
    "RigeModel=Ridge(alpha=10)\n",
    "RigeModel.fit(x_train_pr1,y_train)\n",
    "yhat_test=RigeModel.predict(x_test_pr1)\n",
    "print(\"Predicted:\",yhat_test[0:4])\n",
    "print(\"Test set:\",y_test[0:4].values)\n",
    "RigeModel.score(x_test_pr1,y_test)"
   ]
  },
  {
   "cell_type": "code",
   "execution_count": 169,
   "id": "113a5c2b-5b1f-410d-b87c-b2f61b01f3ed",
   "metadata": {},
   "outputs": [
    {
     "data": {
      "text/plain": [
       "8.37361232788381"
      ]
     },
     "execution_count": 169,
     "metadata": {},
     "output_type": "execute_result"
    }
   ],
   "source": [
    "from sklearn.metrics import mean_squared_error\n",
    "mean_squared_error(y_test,yhat_test)"
   ]
  },
  {
   "cell_type": "markdown",
   "id": "7e2cdf93-346c-467e-825e-d049c929ee37",
   "metadata": {},
   "source": [
    "## Grid Search"
   ]
  },
  {
   "cell_type": "code",
   "execution_count": 170,
   "id": "c8af58e1-7f64-4a31-a89a-759cbd53ab89",
   "metadata": {},
   "outputs": [
    {
     "data": {
      "text/plain": [
       "0.9047866045572792"
      ]
     },
     "execution_count": 170,
     "metadata": {},
     "output_type": "execute_result"
    }
   ],
   "source": [
    "from sklearn.model_selection  import GridSearchCV\n",
    "parameters1=[{'alpha':[0.001,0.1,1,10,100,1000,10000,100000]}]\n",
    "RR=Ridge()\n",
    "Grid1=GridSearchCV(RR,parameters1,cv=7)\n",
    "Grid1.fit(x_train_pr1,y_train)\n",
    "best_alpha=Grid1.best_params_['alpha']\n",
    "best_ridge_model=Ridge(alpha=best_alpha)\n",
    "best_ridge_model.fit(x_train_pr1,y_train)\n",
    "yhat_test=best_ridge_model.predict(x_test_pr1)\n",
    "best_ridge_model.score(x_test_pr1,y_test)"
   ]
  },
  {
   "cell_type": "code",
   "execution_count": null,
   "id": "a5551c8b-4ccf-48d8-b643-a1ce217a116f",
   "metadata": {},
   "outputs": [
    {
     "data": {
      "text/plain": [
       "100"
      ]
     },
     "execution_count": 132,
     "metadata": {},
     "output_type": "execute_result"
    }
   ],
   "source": [
    "best_alpha"
   ]
  },
  {
   "cell_type": "code",
   "execution_count": 108,
   "id": "b2ed3466-6b77-4959-b81f-fc21bdd065e6",
   "metadata": {},
   "outputs": [
    {
     "data": {
      "text/plain": [
       "Ridge(alpha=100)"
      ]
     },
     "execution_count": 108,
     "metadata": {},
     "output_type": "execute_result"
    }
   ],
   "source": [
    "Grid1.best_estimator_"
   ]
  },
  {
   "cell_type": "code",
   "execution_count": 109,
   "id": "36162c23-0b0c-41e5-bdb5-553ca352c57c",
   "metadata": {},
   "outputs": [
    {
     "data": {
      "image/png": "[encoded data removed]",
      "text/plain": [
       "<Figure size 576x144 with 1 Axes>"
      ]
     },
     "metadata": {
      "needs_background": "light"
     },
     "output_type": "display_data"
    }
   ],
   "source": [
    "plt.figure(figsize=(8,2))\n",
    "sns.kdeplot(y_test,label=\"Actual\", fill=True,color=\"blue\")\n",
    "sns.kdeplot(yhat,label=\"Predicted\", fill=True,color=\"red\")\n",
    "plt.xlabel('Target variable')\n",
    "plt.ylabel('Density') \n",
    "plt.title(\"Actual Target value vs Prdicted Target value\")\n",
    "plt.legend()\n",
    "plt.show()"
   ]
  },
  {
   "cell_type": "code",
   "execution_count": 110,
   "id": "3c183254-8c6d-4f0c-9841-9b41c86143c0",
   "metadata": {},
   "outputs": [
    {
     "data": {
      "text/plain": [
       "8.78158136904276"
      ]
     },
     "execution_count": 110,
     "metadata": {},
     "output_type": "execute_result"
    }
   ],
   "source": [
    "from sklearn.metrics import mean_squared_error\n",
    "mean_squared_error(y_test,yhat_test)"
   ]
  },
  {
   "cell_type": "code",
   "execution_count": 137,
   "id": "a9b47e14-01b0-4341-9471-40b3ad06b1e2",
   "metadata": {},
   "outputs": [
    {
     "data": {
      "image/png": "[encoded data removed]",
      "text/plain": [
       "<Figure size 432x288 with 1 Axes>"
      ]
     },
     "metadata": {
      "needs_background": "light"
     },
     "output_type": "display_data"
    }
   ],
   "source": [
    "import matplotlib.pyplot as plt\n",
    "\n",
    "alphas = [0.001, 0.1, 1, 10, 100, 1000, 10000, 100000]\n",
    "scores = []\n",
    "\n",
    "for a in alphas:\n",
    "    model = Ridge(alpha=a)\n",
    "    model.fit(x_train_pr1, y_train)\n",
    "    scores.append(model.score(x_test_pr1, y_test))\n",
    "\n",
    "plt.plot(alphas, scores, marker='o')\n",
    "plt.xscale('log')\n",
    "plt.xlabel('Alpha')\n",
    "plt.ylabel('R² on Test Set')\n",
    "plt.title('Ridge Regression Performance vs Alpha')\n",
    "plt.grid(True)\n",
    "plt.show()"
   ]
  },
  {
   "cell_type": "markdown",
   "id": "51941f17-a048-493b-94e0-6b560c7637ba",
   "metadata": {},
   "source": [
    "# Life expectancy of unknown person"
   ]
  },
  {
   "cell_type": "code",
   "execution_count": 167,
   "id": "afbddbb7-2815-464c-9747-f8a309846622",
   "metadata": {},
   "outputs": [
    {
     "name": "stdout",
     "output_type": "stream",
     "text": [
      "Predicted Life Expectancy: 68.65761549357339\n"
     ]
    }
   ],
   "source": [
    "import pandas as pd\n",
    "import numpy as np\n",
    "\n",
    "# Step 1: Prepare the input data\n",
    "new_data = pd.DataFrame([[\n",
    "    263.0, 62, 0.01, 71.279624, 65.0, 1154, 19.1, 83, 6.0, 8.16, 65.0, 0.1,\n",
    "    584.25921, 33736494.0, 17.2, 17.3, 0.479, 10.1\n",
    "]])\n",
    "\n",
    "SCALE.fit(new_data)\n",
    "new_data=SCALE.transform(new_data)\n",
    "\n",
    "# Step 2: Transform the input using the same PolynomialFeatures\n",
    "new_data_poly = pr1.transform(new_data)\n",
    "\n",
    "# Step 3: Predict using the trained Ridge model\n",
    "predicted_life_expectancy = best_ridge_model.predict(new_data_poly)\n",
    "\n",
    "print(\"Predicted Life Expectancy:\", predicted_life_expectancy[0])"
   ]
  },
  {
   "cell_type": "markdown",
   "id": "253fb144-918c-4a02-a087-440b82b6152f",
   "metadata": {
    "tags": []
   },
   "source": [
    "# Multiple Linear Regression"
   ]
  },
  {
   "cell_type": "code",
   "execution_count": 157,
   "id": "51bdf600-859c-4f1e-880b-336389d3b100",
   "metadata": {},
   "outputs": [
    {
     "name": "stdout",
     "output_type": "stream",
     "text": [
      "54.05741982766602\n",
      "[-2.02443622e-02  1.02476002e-01  1.36161512e-01  1.64807529e-04\n",
      " -4.26692374e-04 -2.13853499e-05  4.34690261e-02 -7.63994149e-02\n",
      "  2.64208280e-02  7.80107956e-02  3.52073314e-02 -4.71597235e-01\n",
      "  3.27889063e-05  3.21774954e-10 -8.37148849e-02  2.10022673e-03\n",
      "  5.82952498e+00  6.71551437e-01]\n"
     ]
    }
   ],
   "source": [
    "from sklearn.model_selection import cross_val_score\n",
    "lr=LinearRegression()\n",
    "lr.fit(x_data, y_data)\n",
    "yhat=lr.predict(x_data)\n",
    "print(lr.intercept_)\n",
    "print(lr.coef_)"
   ]
  },
  {
   "cell_type": "code",
   "execution_count": 158,
   "id": "0a748d89-5363-4681-adcb-58fa708123e1",
   "metadata": {},
   "outputs": [
    {
     "data": {
      "text/plain": [
       "0.8178678774803126"
      ]
     },
     "execution_count": 158,
     "metadata": {},
     "output_type": "execute_result"
    }
   ],
   "source": [
    "lr.score(x_data, y_data)"
   ]
  },
  {
   "cell_type": "code",
   "execution_count": 153,
   "id": "f89a91ea-db41-46c6-8096-bfb20bf05518",
   "metadata": {},
   "outputs": [
    {
     "data": {
      "text/plain": [
       "16.51447938035409"
      ]
     },
     "execution_count": 153,
     "metadata": {},
     "output_type": "execute_result"
    }
   ],
   "source": [
    "mean_squared_error(y_data,yhat)"
   ]
  },
  {
   "cell_type": "markdown",
   "id": "61fb11a1-da1d-4a2c-a229-0512774e8cfe",
   "metadata": {},
   "source": [
    "## Visual Evaluation For multiple linear Regresssion"
   ]
  },
  {
   "cell_type": "code",
   "execution_count": 154,
   "id": "2e526c87-98f0-40c8-aa21-1f71a1fa3311",
   "metadata": {},
   "outputs": [
    {
     "data": {
      "image/png": "[encoded data removed]",
      "text/plain": [
       "<Figure size 432x288 with 1 Axes>"
      ]
     },
     "metadata": {
      "needs_background": "light"
     },
     "output_type": "display_data"
    }
   ],
   "source": [
    "sns.kdeplot(y_data,label=\"Actual\", fill=True,color=\"blue\")\n",
    "sns.kdeplot(yhat,label=\"Predicted\", fill=True,color=\"red\")\n",
    "plt.xlabel('Target variable')\n",
    "plt.ylabel('Density') \n",
    "plt.title(\"Actual Target value vs Prdicted Target value\")\n",
    "plt.legend()\n",
    "plt.show()"
   ]
  },
  {
   "cell_type": "code",
   "execution_count": 159,
   "id": "7e8be8fb-f4bc-4dc1-8b8b-662dc561651f",
   "metadata": {},
   "outputs": [
    {
     "name": "stdout",
     "output_type": "stream",
     "text": [
      "69.13336458493133\n",
      "[-2.50673944e+00  1.28192210e+01  5.69513593e-01  2.76822472e-01\n",
      "  7.77681192e-03 -3.10098193e-01  7.50309864e-01 -1.31477466e+01\n",
      "  5.67232664e-01  2.82379767e-01  9.42138945e-01 -2.37550431e+00\n",
      "  5.74547787e-01  8.48519195e-02 -6.14979711e-01  2.50473637e-01\n",
      "  1.20475525e+00  2.05292429e+00]\n"
     ]
    }
   ],
   "source": [
    "from sklearn.model_selection import cross_val_score\n",
    "lr=LinearRegression()\n",
    "lr.fit(x_train, y_train)\n",
    "yhat=lr.predict(x_test)\n",
    "print(lr.intercept_)\n",
    "print(lr.coef_)"
   ]
  },
  {
   "cell_type": "code",
   "execution_count": 160,
   "id": "bcc09815-4b3f-46c7-9bb3-0d1567e19a11",
   "metadata": {},
   "outputs": [
    {
     "data": {
      "text/plain": [
       "0.8220228551889152"
      ]
     },
     "execution_count": 160,
     "metadata": {},
     "output_type": "execute_result"
    }
   ],
   "source": [
    "lr.score(x_test, y_test)"
   ]
  },
  {
   "cell_type": "code",
   "execution_count": 161,
   "id": "e0304ca6-c091-43aa-b6b4-de96813b62e7",
   "metadata": {},
   "outputs": [
    {
     "data": {
      "text/plain": [
       "16.41492535500094"
      ]
     },
     "execution_count": 161,
     "metadata": {},
     "output_type": "execute_result"
    }
   ],
   "source": [
    "mean_squared_error(y_test,yhat)"
   ]
  },
  {
   "cell_type": "code",
   "execution_count": 162,
   "id": "3eafced5-d463-48e1-a078-74f7b2f21b0f",
   "metadata": {},
   "outputs": [
    {
     "data": {
      "image/png": "[encoded data removed]",
      "text/plain": [
       "<Figure size 432x288 with 1 Axes>"
      ]
     },
     "metadata": {
      "needs_background": "light"
     },
     "output_type": "display_data"
    }
   ],
   "source": [
    "sns.kdeplot(y_data,label=\"Actual\", fill=True,color=\"blue\")\n",
    "sns.kdeplot(yhat,label=\"Predicted\", fill=True,color=\"red\")\n",
    "plt.xlabel('Target variable')\n",
    "plt.ylabel('Density') \n",
    "plt.title(\"Actual Target value vs Prdicted Target value\")\n",
    "plt.legend()\n",
    "plt.show()"
   ]
  },
  {
   "cell_type": "code",
   "execution_count": 163,
   "id": "8828c64f-e84d-493c-9a91-13230ed5c59e",
   "metadata": {},
   "outputs": [
    {
     "data": {
      "text/plain": [
       "Country                            0\n",
       "Year                               0\n",
       "Status                             0\n",
       "Life expectancy                    0\n",
       "Adult Mortality                    0\n",
       "infant deaths                      0\n",
       "Alcohol                            0\n",
       "percentage expenditure             0\n",
       "Hepatitis B                        0\n",
       "Measles                            0\n",
       " BMI                               0\n",
       "under-five deaths                  0\n",
       "Polio                              0\n",
       "Total expenditure                  0\n",
       "Diphtheria                         0\n",
       " HIV/AIDS                          0\n",
       "GDP                                0\n",
       "Population                         0\n",
       " thinness  1-19 years              0\n",
       " thinness 5-9 years                0\n",
       "Income composition of resources    0\n",
       "Schooling                          0\n",
       "dtype: int64"
      ]
     },
     "execution_count": 163,
     "metadata": {},
     "output_type": "execute_result"
    }
   ],
   "source": [
    "df.isnull().sum()"
   ]
  },
  {
   "cell_type": "code",
   "execution_count": 164,
   "id": "42669001-b3d1-47a3-93be-9e208753f455",
   "metadata": {},
   "outputs": [],
   "source": [
    "df.to_csv(\"Clean Life Expectancy Data.csv\")"
   ]
  },
  {
   "cell_type": "code",
   "execution_count": null,
   "id": "e9a6e9dd-552b-4e99-9793-9d650bb238f8",
   "metadata": {},
   "outputs": [],
   "source": []
  }
 ],
 "metadata": {
  "kernelspec": {
   "display_name": "Python 3 (ipykernel)",
   "language": "python",
   "name": "python3"
  },
  "language_info": {
   "codemirror_mode": {
    "name": "ipython",
    "version": 3
   },
   "file_extension": ".py",
   "mimetype": "text/x-python",
   "name": "python",
   "nbconvert_exporter": "python",
   "pygments_lexer": "ipython3",
   "version": "3.9.12"
  }
 },
 "nbformat": 4,
 "nbformat_minor": 5
}
